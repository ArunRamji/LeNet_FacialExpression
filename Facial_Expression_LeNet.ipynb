{
  "nbformat": 4,
  "nbformat_minor": 0,
  "metadata": {
    "colab": {
      "name": "Facial_Expression LeNet.ipynb",
      "provenance": [],
      "collapsed_sections": [],
      "authorship_tag": "ABX9TyNeu6vk9PVafYbd169EwASh",
      "include_colab_link": true
    },
    "kernelspec": {
      "name": "python3",
      "display_name": "Python 3"
    },
    "accelerator": "GPU"
  },
  "cells": [
    {
      "cell_type": "markdown",
      "metadata": {
        "id": "view-in-github",
        "colab_type": "text"
      },
      "source": [
        "<a href=\"https://colab.research.google.com/github/ArunRamji/LeNet_FacialExpression/blob/master/Facial_Expression_LeNet.ipynb\" target=\"_parent\"><img src=\"https://colab.research.google.com/assets/colab-badge.svg\" alt=\"Open In Colab\"/></a>"
      ]
    },
    {
      "cell_type": "code",
      "metadata": {
        "id": "mT694IKTvYOp",
        "colab_type": "code",
        "colab": {}
      },
      "source": [
        "#from google.colab import files\n",
        "#uploaded = files.upload()\n",
        "\n",
        "!unzip /Emotion.zip -d /Dataset\n",
        "\n",
        "\n"
      ],
      "execution_count": 0,
      "outputs": []
    },
    {
      "cell_type": "code",
      "metadata": {
        "id": "A5zIhjBmwr_5",
        "colab_type": "code",
        "colab": {
          "base_uri": "https://localhost:8080/",
          "height": 34
        },
        "outputId": "78899707-9827-465f-99c7-3458c57a3498"
      },
      "source": [
        "#to check gpu connected\n",
        "import tensorflow as tf \n",
        "tf.test.gpu_device_name() "
      ],
      "execution_count": 2,
      "outputs": [
        {
          "output_type": "execute_result",
          "data": {
            "text/plain": [
              "'/device:GPU:0'"
            ]
          },
          "metadata": {
            "tags": []
          },
          "execution_count": 2
        }
      ]
    },
    {
      "cell_type": "code",
      "metadata": {
        "id": "QbILsgYawyyA",
        "colab_type": "code",
        "colab": {}
      },
      "source": [
        "import keras \n",
        "from keras.models import Sequential\n",
        "from keras.layers import Conv2D\n",
        "from keras.layers import MaxPooling2D\n",
        "from keras.layers import Flatten\n",
        "from keras.layers import Dense\n",
        "\n",
        "#import dropout class if needed\n",
        "from keras.layers import Dropout\n",
        "\n",
        "from keras import regularizers\n",
        "\n",
        "model = Sequential()\n",
        "#Layer 1\n",
        "#Conv Layer 1\n",
        "model.add(Conv2D(filters = 6, \n",
        "                 kernel_size = 5, \n",
        "                 strides = 1, \n",
        "                 activation = 'relu', \n",
        "                 input_shape = (32,32,3)))\n",
        "#Pooling layer 1\n",
        "model.add(MaxPooling2D(pool_size = 2, strides = 2))\n",
        "#Layer 2\n",
        "#Conv Layer 2\n",
        "model.add(Conv2D(filters = 16, \n",
        "                 kernel_size = 5,\n",
        "                 strides = 1,\n",
        "                 activation = 'relu',\n",
        "                 input_shape = (14,14,6)))\n",
        "#Pooling Layer 2\n",
        "model.add(MaxPooling2D(pool_size = 2, strides = 2))\n",
        "#Flatten\n",
        "model.add(Flatten())\n",
        "#Layer 3\n",
        "#Fully connected layer 1\n",
        "model.add(Dense(units=128,activation='relu',kernel_initializer='uniform'\n",
        "                     ,kernel_regularizer=regularizers.l2(0.01)))\n",
        "model.add(Dropout(rate=0.2))\n",
        "#Layer 4\n",
        "#Fully connected layer 2\n",
        "model.add(Dense(units=64,activation='relu',kernel_initializer='uniform'\n",
        "                     ,kernel_regularizer=regularizers.l2(0.01)))\n",
        "model.add(Dropout(rate=0.2))\n",
        "#Layer 5\n",
        "#Output Layer\n",
        "model.add(Dense(units = 5, activation = 'softmax'))\n",
        "model.compile(optimizer = 'adam', loss = 'categorical_crossentropy', metrics = ['accuracy'])\n"
      ],
      "execution_count": 0,
      "outputs": []
    },
    {
      "cell_type": "code",
      "metadata": {
        "id": "Kle5H8qwxB-s",
        "colab_type": "code",
        "colab": {
          "base_uri": "https://localhost:8080/",
          "height": 51
        },
        "outputId": "313415c6-b150-45f5-9ca5-3e5d27111e75"
      },
      "source": [
        "from keras.preprocessing.image import ImageDataGenerator\n",
        "\n",
        "#Image Augmentation\n",
        "train_datagen = ImageDataGenerator(\n",
        "        rescale=1./255, #rescaling pixel value bw 0 and 1\n",
        "        shear_range=0.2,\n",
        "        zoom_range=0.2,\n",
        "        horizontal_flip=True)\n",
        "\n",
        "#Just Feature scaling\n",
        "test_datagen = ImageDataGenerator(rescale=1./255)\n",
        "\n",
        "training_set = train_datagen.flow_from_directory(\n",
        "       '/Dataset/Emotion/training',\n",
        "        target_size=(32, 32),\n",
        "        batch_size=32,\n",
        "        class_mode='categorical')\n",
        "\n",
        "test_set = test_datagen.flow_from_directory(\n",
        "        '/Dataset/Emotion/test',\n",
        "        target_size=(32, 32),\n",
        "        batch_size=32,\n",
        "        class_mode='categorical')"
      ],
      "execution_count": 7,
      "outputs": [
        {
          "output_type": "stream",
          "text": [
            "Found 531 images belonging to 5 classes.\n",
            "Found 223 images belonging to 5 classes.\n"
          ],
          "name": "stdout"
        }
      ]
    },
    {
      "cell_type": "code",
      "metadata": {
        "id": "RNT2GL7nxGQt",
        "colab_type": "code",
        "colab": {
          "base_uri": "https://localhost:8080/",
          "height": 904
        },
        "outputId": "6de9b3b4-7112-48a7-eb31-017cf7d5803b"
      },
      "source": [
        "model.fit_generator(\n",
        "        training_set,\n",
        "        steps_per_epoch=50,   #number of input (image)\n",
        "        epochs=25,\n",
        "        validation_data=test_set,\n",
        "        validation_steps=10)          # number of training sample"
      ],
      "execution_count": 8,
      "outputs": [
        {
          "output_type": "stream",
          "text": [
            "Epoch 1/25\n",
            "17/17 [==============================] - 7s 401ms/step - loss: 1.8879 - accuracy: 0.3145 - val_loss: 1.7401 - val_accuracy: 0.3166\n",
            "Epoch 2/25\n",
            "17/17 [==============================] - 1s 42ms/step - loss: 1.6365 - accuracy: 0.3484 - val_loss: 1.7199 - val_accuracy: 0.2069\n",
            "Epoch 3/25\n",
            "17/17 [==============================] - 1s 57ms/step - loss: 1.5535 - accuracy: 0.3635 - val_loss: 1.6189 - val_accuracy: 0.3333\n",
            "Epoch 4/25\n",
            "17/17 [==============================] - 1s 38ms/step - loss: 1.5070 - accuracy: 0.3766 - val_loss: 1.6849 - val_accuracy: 0.4859\n",
            "Epoch 5/25\n",
            "17/17 [==============================] - 1s 60ms/step - loss: 1.3875 - accuracy: 0.5311 - val_loss: 1.3350 - val_accuracy: 0.5346\n",
            "Epoch 6/25\n",
            "17/17 [==============================] - 1s 42ms/step - loss: 1.1169 - accuracy: 0.6083 - val_loss: 1.1269 - val_accuracy: 0.5862\n",
            "Epoch 7/25\n",
            "17/17 [==============================] - 1s 46ms/step - loss: 0.9923 - accuracy: 0.6516 - val_loss: 1.0889 - val_accuracy: 0.5377\n",
            "Epoch 8/25\n",
            "17/17 [==============================] - 1s 52ms/step - loss: 0.8762 - accuracy: 0.6874 - val_loss: 0.9952 - val_accuracy: 0.6082\n",
            "Epoch 9/25\n",
            "17/17 [==============================] - 1s 47ms/step - loss: 0.7576 - accuracy: 0.7589 - val_loss: 0.9009 - val_accuracy: 0.6834\n",
            "Epoch 10/25\n",
            "17/17 [==============================] - 1s 56ms/step - loss: 0.7210 - accuracy: 0.7646 - val_loss: 0.9377 - val_accuracy: 0.6415\n",
            "Epoch 11/25\n",
            "17/17 [==============================] - 1s 36ms/step - loss: 0.6643 - accuracy: 0.7891 - val_loss: 1.2014 - val_accuracy: 0.6771\n",
            "Epoch 12/25\n",
            "17/17 [==============================] - 1s 61ms/step - loss: 0.6361 - accuracy: 0.7910 - val_loss: 0.5782 - val_accuracy: 0.6981\n",
            "Epoch 13/25\n",
            "17/17 [==============================] - 1s 40ms/step - loss: 0.6484 - accuracy: 0.7797 - val_loss: 0.7540 - val_accuracy: 0.6771\n",
            "Epoch 14/25\n",
            "17/17 [==============================] - 1s 56ms/step - loss: 0.6186 - accuracy: 0.7891 - val_loss: 0.7936 - val_accuracy: 0.6667\n",
            "Epoch 15/25\n",
            "17/17 [==============================] - 1s 45ms/step - loss: 0.6080 - accuracy: 0.8023 - val_loss: 0.8137 - val_accuracy: 0.7147\n",
            "Epoch 16/25\n",
            "17/17 [==============================] - 1s 47ms/step - loss: 0.5869 - accuracy: 0.7985 - val_loss: 0.5438 - val_accuracy: 0.7241\n",
            "Epoch 17/25\n",
            "17/17 [==============================] - 1s 57ms/step - loss: 0.5516 - accuracy: 0.8286 - val_loss: 0.7376 - val_accuracy: 0.7296\n",
            "Epoch 18/25\n",
            "17/17 [==============================] - 1s 42ms/step - loss: 0.5773 - accuracy: 0.8117 - val_loss: 0.8205 - val_accuracy: 0.6991\n",
            "Epoch 19/25\n",
            "17/17 [==============================] - 1s 51ms/step - loss: 0.5424 - accuracy: 0.8286 - val_loss: 0.6956 - val_accuracy: 0.7547\n",
            "Epoch 20/25\n",
            "17/17 [==============================] - 1s 41ms/step - loss: 0.5181 - accuracy: 0.8437 - val_loss: 0.7077 - val_accuracy: 0.7524\n",
            "Epoch 21/25\n",
            "17/17 [==============================] - 1s 53ms/step - loss: 0.5424 - accuracy: 0.8324 - val_loss: 1.0759 - val_accuracy: 0.7138\n",
            "Epoch 22/25\n",
            "17/17 [==============================] - 1s 41ms/step - loss: 0.5069 - accuracy: 0.8399 - val_loss: 0.5861 - val_accuracy: 0.7712\n",
            "Epoch 23/25\n",
            "17/17 [==============================] - 1s 56ms/step - loss: 0.5025 - accuracy: 0.8399 - val_loss: 0.8663 - val_accuracy: 0.7367\n",
            "Epoch 24/25\n",
            "17/17 [==============================] - 1s 51ms/step - loss: 0.5295 - accuracy: 0.8588 - val_loss: 0.8221 - val_accuracy: 0.7327\n",
            "Epoch 25/25\n",
            "17/17 [==============================] - 1s 47ms/step - loss: 0.4610 - accuracy: 0.8531 - val_loss: 0.5128 - val_accuracy: 0.7743\n"
          ],
          "name": "stdout"
        },
        {
          "output_type": "execute_result",
          "data": {
            "text/plain": [
              "<keras.callbacks.callbacks.History at 0x7f390ca22dd8>"
            ]
          },
          "metadata": {
            "tags": []
          },
          "execution_count": 8
        }
      ]
    },
    {
      "cell_type": "code",
      "metadata": {
        "id": "8o_lcXSP0PPp",
        "colab_type": "code",
        "colab": {}
      },
      "source": [
        "#PART 3 - Prediction\n",
        "import numpy as np\n",
        "from keras.preprocessing import image\n",
        "test_image = image.load_img(\n",
        "'/Dataset/Emotion/single_prediction/young-beautiful-hispanic-sad-woman-260nw-574517179.jpg',\n",
        "        target_size = (32,32))\n",
        "test_image = image.img_to_array(test_image) #making it 3D array as input layer is 3D     \n",
        "test_image = np.expand_dims(test_image,axis=0) #adding bias variable\n",
        "\n",
        "result = model.predict(test_image)"
      ],
      "execution_count": 0,
      "outputs": []
    },
    {
      "cell_type": "code",
      "metadata": {
        "id": "E7C9agCq070O",
        "colab_type": "code",
        "colab": {
          "base_uri": "https://localhost:8080/",
          "height": 34
        },
        "outputId": "16487460-48e2-489d-9e51-7f4fb3ed7891"
      },
      "source": [
        "training_set.class_indices  #to check the value of outplut class assigned"
      ],
      "execution_count": 19,
      "outputs": [
        {
          "output_type": "execute_result",
          "data": {
            "text/plain": [
              "{'anger': 0, 'fear': 1, 'happy': 2, 'sadness': 3, 'surprise': 4}"
            ]
          },
          "metadata": {
            "tags": []
          },
          "execution_count": 19
        }
      ]
    },
    {
      "cell_type": "code",
      "metadata": {
        "id": "TiTsMX-V1GGP",
        "colab_type": "code",
        "colab": {
          "base_uri": "https://localhost:8080/",
          "height": 34
        },
        "outputId": "7b409b84-50c6-4298-a252-1e9e977658e3"
      },
      "source": [
        "if result[0][0] == 1:\n",
        "    prediction = \"Anger\"\n",
        "    print(\"I am Robot: It looks like u are angry , take some water  !\")\n",
        "elif result[0][1] == 1:\n",
        "    prediction = \"fear\"\n",
        "    print(\"am Robot: oooh, It looks like u are afraid about something :)\")\n",
        "elif result[0][2] == 1:\n",
        "    prediction = \"happy\"\n",
        "    print(\"am Robot: oooh, It looks like u are happy about something :)\")\n",
        "elif result[0][3] == 1:\n",
        "    prediction = \"sad\"\n",
        "    print(\"am Robot: oooh, It looks like u are sad about something :)\")\n",
        "else:\n",
        "    prediction = \"surprise\"\n",
        "    print(\"I am Robot: oooh, It looks like u are surprise  come on hug me! :)\")\n"
      ],
      "execution_count": 20,
      "outputs": [
        {
          "output_type": "stream",
          "text": [
            "I am Robot: It looks like u are angry , take some water  !\n"
          ],
          "name": "stdout"
        }
      ]
    },
    {
      "cell_type": "code",
      "metadata": {
        "id": "tTyotsVT1H-4",
        "colab_type": "code",
        "colab": {
          "base_uri": "https://localhost:8080/",
          "height": 493
        },
        "outputId": "f618875d-cd70-47ce-b861-1542a64b3561"
      },
      "source": [
        "model.summary()"
      ],
      "execution_count": 23,
      "outputs": [
        {
          "output_type": "stream",
          "text": [
            "Model: \"sequential_3\"\n",
            "_________________________________________________________________\n",
            "Layer (type)                 Output Shape              Param #   \n",
            "=================================================================\n",
            "conv2d_5 (Conv2D)            (None, 28, 28, 6)         456       \n",
            "_________________________________________________________________\n",
            "max_pooling2d_5 (MaxPooling2 (None, 14, 14, 6)         0         \n",
            "_________________________________________________________________\n",
            "conv2d_6 (Conv2D)            (None, 10, 10, 16)        2416      \n",
            "_________________________________________________________________\n",
            "max_pooling2d_6 (MaxPooling2 (None, 5, 5, 16)          0         \n",
            "_________________________________________________________________\n",
            "flatten_3 (Flatten)          (None, 400)               0         \n",
            "_________________________________________________________________\n",
            "dense_2 (Dense)              (None, 128)               51328     \n",
            "_________________________________________________________________\n",
            "dropout_2 (Dropout)          (None, 128)               0         \n",
            "_________________________________________________________________\n",
            "dense_3 (Dense)              (None, 64)                8256      \n",
            "_________________________________________________________________\n",
            "dropout_3 (Dropout)          (None, 64)                0         \n",
            "_________________________________________________________________\n",
            "dense_4 (Dense)              (None, 5)                 325       \n",
            "=================================================================\n",
            "Total params: 62,781\n",
            "Trainable params: 62,781\n",
            "Non-trainable params: 0\n",
            "_________________________________________________________________\n"
          ],
          "name": "stdout"
        }
      ]
    },
    {
      "cell_type": "code",
      "metadata": {
        "id": "UUOnuGz4ABon",
        "colab_type": "code",
        "colab": {}
      },
      "source": [
        ""
      ],
      "execution_count": 0,
      "outputs": []
    },
    {
      "cell_type": "code",
      "metadata": {
        "id": "MC8mHsUiAcVs",
        "colab_type": "code",
        "colab": {}
      },
      "source": [
        ""
      ],
      "execution_count": 0,
      "outputs": []
    },
    {
      "cell_type": "code",
      "metadata": {
        "id": "zO-AZ3vuA0kh",
        "colab_type": "code",
        "colab": {}
      },
      "source": [
        ""
      ],
      "execution_count": 0,
      "outputs": []
    }
  ]
}